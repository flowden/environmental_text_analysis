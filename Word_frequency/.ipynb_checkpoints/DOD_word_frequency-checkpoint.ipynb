{
 "cells": [
  {
   "cell_type": "markdown",
   "id": "ac9a1810",
   "metadata": {},
   "source": [
    "### Word Frequecy in Discourses of Delay texts"
   ]
  },
  {
   "cell_type": "code",
   "execution_count": 1,
   "id": "fd6f7b45",
   "metadata": {},
   "outputs": [],
   "source": [
    "### Importing all of my modules and data\n",
    "\n",
    "# Imports\n",
    "import pandas as pd\n",
    "import nltk\n",
    "import string\n",
    "import csv\n",
    "import os\n",
    "\n",
    "# Path to my txt files\n",
    "data_folder = \"/Users/finnianlowden/Documents/GitHub/environmental_text_analysis/MA_CT_opposition_testimony/Testimony_as_txts\"\n",
    "\n",
    "# Opening each txt file in folder\n",
    "delay_examples = []\n",
    "for file in os.listdir(data_folder):\n",
    "    with open(os.path.join(data_folder, file), 'r', encoding = \"ISO-8859-1\") as f:\n",
    "       text = f.read()\n",
    "       delay_examples.append(text)\n",
    "    "
   ]
  },
  {
   "cell_type": "code",
   "execution_count": 2,
   "id": "b2cc8ced",
   "metadata": {},
   "outputs": [],
   "source": [
    "### Processing my inported data into a dictionary\n",
    "\n",
    "# Cleaning each eaample in delay_examples\n",
    "delay_word_count = {}\n",
    "\n",
    "for example in delay_examples:\n",
    "    # Spliting long string with all text into list of lowercase words\n",
    "    example = example.lower().split()\n",
    "\n",
    "    # Removing stopwords from example\n",
    "    someStopwords = set(nltk.corpus.stopwords.words('english'))\n",
    "    exampleCleaned = []\n",
    "    for word in example:\n",
    "        if word in someStopwords:\n",
    "            continue\n",
    "        else:\n",
    "            exampleCleaned.append(word)\n",
    "\n",
    "    # Removing punctuation\n",
    "    exampleNoPunct = []\n",
    "    for word in exampleCleaned:\n",
    "        for mark in set(string.punctuation):\n",
    "            word=word.replace(mark, '')\n",
    "        exampleNoPunct.append(word)\n",
    "    \n",
    "    for word in exampleNoPunct:\n",
    "        if word not in delay_word_count:\n",
    "            delay_word_count[word] = 1\n",
    "        else:\n",
    "            delay_word_count[word] += 1"
   ]
  },
  {
   "cell_type": "code",
   "execution_count": 7,
   "id": "f8f9c513",
   "metadata": {},
   "outputs": [],
   "source": [
    "### Downloading my dictionary as a CSV file\n",
    "\n",
    "listOfKeys = [\"Word\", \"Count\"]\n",
    "with open('/Users/finnianlowden/Documents/GitHub/environmental_text_analysis/Word_frequency/output.csv', 'w') as output_file:\n",
    "    writer = csv.writer(output_file)\n",
    "    writer.writerow(listOfKeys)\n",
    "    for key, value in delay_word_count.items():\n",
    "        writer.writerow([key, value])\n"
   ]
  },
  {
   "cell_type": "code",
   "execution_count": null,
   "id": "6894db64",
   "metadata": {},
   "outputs": [],
   "source": []
  }
 ],
 "metadata": {
  "kernelspec": {
   "display_name": "Python 3 (ipykernel)",
   "language": "python",
   "name": "python3"
  },
  "language_info": {
   "codemirror_mode": {
    "name": "ipython",
    "version": 3
   },
   "file_extension": ".py",
   "mimetype": "text/x-python",
   "name": "python",
   "nbconvert_exporter": "python",
   "pygments_lexer": "ipython3",
   "version": "3.9.7"
  }
 },
 "nbformat": 4,
 "nbformat_minor": 5
}
